{
 "cells": [
  {
   "cell_type": "markdown",
   "metadata": {},
   "source": [
    "### Time Series Analysis on Corona Virus Data\n",
    "\n",
    "\n",
    "https://machinelearningmastery.com/time-series-forecasting-methods-in-python-cheat-sheet/"
   ]
  },
  {
   "cell_type": "code",
   "execution_count": 7,
   "metadata": {},
   "outputs": [],
   "source": [
    "from __future__ import print_function\n",
    "import pandas as pd\n",
    "import numpy as np\n",
    "import os\n",
    "import pickle\n",
    "import os.path\n",
    "from datetime import datetime\n",
    "import pyarrow\n",
    "import matplotlib.pyplot as plt\n",
    "import warnings\n",
    "import statsmodels.api as sm\n",
    "from pylab import rcParams\n",
    "warnings.filterwarnings(\"ignore\")\n",
    "%matplotlib inline\n",
    "\n",
    "# Dynamic parameters\n",
    "data_dir  = '../data/' + str(datetime.date(datetime.now()))\n",
    "agg_file  = 'agg_data_{}.parquet.gzip'.format(datetime.date(datetime.now()))\n",
    "trend_file  = 'trend_{}.csv'.format(datetime.date(datetime.now()))\n",
    "\n",
    "# import data\n",
    "agg_df = pd.read_parquet(os.path.join(data_dir, agg_file))\n",
    "daily_df = pd.read_csv(os.path.join(data_dir, trend_file), index_col=[0])\n",
    "\n",
    "# Convert types\n",
    "for col in ['confirmed', 'deaths', 'recovered']:\n",
    "    agg_df[col] = agg_df[col].replace('', 0).astype(int)\n",
    "\n",
    "agg_df['date'] = agg_df['date'].astype('datetime64[ns]')\n",
    "daily_df['date'] = daily_df['date'].astype('datetime64[ns]')\n",
    "\n",
    "#set ggplot style\n",
    "plt.style.use('ggplot')"
   ]
  },
  {
   "cell_type": "markdown",
   "metadata": {},
   "source": [
    "### Clean data\n"
   ]
  },
  {
   "cell_type": "code",
   "execution_count": null,
   "metadata": {},
   "outputs": [],
   "source": [
    "# Agg data\n",
    "# confirmed_agg = agg_df.copy()\n",
    "# confirmed_agg.drop(['country','deaths', 'last update (utc)', 'province', 'recovered'], axis=1, inplace=True)\n",
    "\n",
    "# confirmed_agg = confirmed_agg.set_index('date')"
   ]
  },
  {
   "cell_type": "code",
   "execution_count": null,
   "metadata": {},
   "outputs": [],
   "source": [
    "# Daily Data\n",
    "# confirmed_daily = daily_df.copy()\n",
    "# confirmed_daily.drop(['new_deaths', 'new_recoveries'], axis=1, inplace=True)\n",
    "\n",
    "# confirmed_daily = confirmed_agg.set_index('date')"
   ]
  },
  {
   "cell_type": "markdown",
   "metadata": {},
   "source": [
    "#### Display range of days"
   ]
  },
  {
   "cell_type": "code",
   "execution_count": 8,
   "metadata": {},
   "outputs": [
    {
     "name": "stdout",
     "output_type": "stream",
     "text": [
      "Calulcating date ranges...\n",
      "\n",
      "time series data:\n",
      "... 2020-01-22 to 2020-02-03\n",
      "... -12 days +00:00:00\n",
      "\n",
      "\n",
      "trend data:\n",
      "... 2020-01-22 to 2020-02-03\n",
      "... -12 days +00:00:00\n",
      "\n",
      "\n"
     ]
    }
   ],
   "source": [
    "#Calculate range of trend data\n",
    "def time_range(tmp_df):\n",
    "    print('...', tmp_df['date'].min().date(), 'to',  tmp_df['date'].max().date())\n",
    "    print('...', tmp_df['date'].min() - tmp_df['date'].max())\n",
    "    print('\\n')\n",
    "\n",
    "print('Calulcating date ranges...\\n')\n",
    "print('time series data:')\n",
    "time_range(agg_df)\n",
    "\n",
    "print('trend data:')\n",
    "time_range(daily_df)"
   ]
  },
  {
   "cell_type": "markdown",
   "metadata": {},
   "source": [
    "#### Plotting"
   ]
  },
  {
   "cell_type": "code",
   "execution_count": 9,
   "metadata": {},
   "outputs": [],
   "source": [
    "# Plots\n",
    "def plot_scatter_2vars(tmp_df, x_col, y_col):\n",
    "    tmp_df.plot(x=x_col, y=y_col, style='o')  \n",
    "    plt.title('Scatter plot for correlation of ' + x_col + ' and ' + y_col)  \n",
    "    plt.xlabel(x_col)  \n",
    "    plt.ylabel(y_col)  \n",
    "    plt.show()\n",
    "\n",
    "def plot_scatter_1var(tmp_df, col):\n",
    "    \n",
    "    tmp_df.groupby(['date'])[col].sum().plot(figsize=(10, 6), style='o') \n",
    "    plt.title('Regression on accumalitive Sum of Confirmed Cases')  \n",
    "    plt.xlabel('date')  \n",
    "    plt.ylabel('confirmed cases')  \n",
    "    plt.show()\n",
    "\n",
    "\n",
    "def plot_series(time, series, format=\"-\", start=0, end=None):\n",
    "    plt.plot(time[start:end], series[start:end], format)\n",
    "    plt.xlabel(\"Time\")\n",
    "    plt.ylabel(\"Value\")\n",
    "    plt.grid(True)"
   ]
  },
  {
   "cell_type": "code",
   "execution_count": 10,
   "metadata": {},
   "outputs": [
    {
     "data": {
      "text/plain": [
       "Index(['new_confirmed_cases', 'new_deaths', 'new_recoveries', 'date'], dtype='object')"
      ]
     },
     "execution_count": 10,
     "metadata": {},
     "output_type": "execute_result"
    }
   ],
   "source": [
    "daily_df.columns"
   ]
  },
  {
   "cell_type": "code",
   "execution_count": 24,
   "metadata": {},
   "outputs": [
    {
     "data": {
      "image/png": "[encoded data removed]",
      "text/plain": [
       "<Figure size 432x288 with 1 Axes>"
      ]
     },
     "metadata": {},
     "output_type": "display_data"
    }
   ],
   "source": [
    "plot_scatter_2vars(agg_df, 'deaths', 'recovered')"
   ]
  },
  {
   "cell_type": "markdown",
   "metadata": {},
   "source": [
    "## Moving Average"
   ]
  },
  {
   "cell_type": "code",
   "execution_count": 4,
   "metadata": {},
   "outputs": [],
   "source": [
    "# '''\n",
    "# Split into training and testing sets\n",
    "#  - for univariate time series\n",
    "\n",
    "# '''    \n",
    "# def split_data(tmp_df, col, split):\n",
    "    \n",
    "#     #Training\n",
    "#     split_time = split\n",
    "#     time_train = tmp_df.date[:split_time]\n",
    "#     x_train = tmp_df[col][:split_time]\n",
    "\n",
    "#     #validation\n",
    "#     time_valid = tmp_df.date[split_time:]\n",
    "#     x_valid = tmp_df[col][split_time:]\n",
    "\n",
    "#     #Plot\n",
    "#     plt.figure(figsize=(10, 6))\n",
    "#     plot_series(time_train, x_train)\n",
    "#     plt.show()\n",
    "\n",
    "#     plt.figure(figsize=(10, 6))\n",
    "#     plot_series(time_valid, x_valid)\n",
    "#     plt.show()\n",
    "    \n",
    "#     return time_train, time_valid, x_train, x_valid\n",
    "\n",
    "# # time_train, time_valid = split_data(agg_df, 'confirmed')\n",
    "\n",
    "\n",
    "# Create lagged dataset\n",
    "# values = pd.DataFrame(daily_df.new_confirmed_cases.values)\n",
    "# dataframe = pd.concat([values.shift(1), values], axis=1)\n",
    "# dataframe.columns = ['t-1', 't+1']\n",
    "# print(dataframe.head(10))\n",
    "\n",
    "\n",
    "\n",
    "# # split into train and test sets\n",
    "# X = dataframe.values\n",
    "# train_size = int(len(X) * 0.4) # 2/3 split of data\n",
    "# train, test = X[1:train_size], X[train_size:]\n",
    "\n",
    "\n",
    "# train_X, train_y = train[:,0], train[:,1]\n",
    "# test_X, test_y = test[:,0], test[:,1]\n",
    "\n",
    "\n",
    "# persistence model\n",
    "# def model_persistence(x):\n",
    "# \treturn x\n",
    "\n",
    "# from keras.metrics import mean_squared_error\n",
    "\n",
    "\n",
    "# # walk-forward validation\n",
    "# predictions = list()\n",
    "# for x in test_X:\n",
    "# \tyhat = model_persistence(x)\n",
    "# \tpredictions.append(yhat)\n",
    "# test_score = mean_squared_error(test_y, predictions)\n",
    "# print('Test MSE: %.3f' % test_score)\n",
    "\n",
    "\n",
    "### plot predictions and expected results\n",
    "# plt.plot(train_y)\n",
    "# plt.plot([None for i in train_y] + [x for x in test_y])\n",
    "# plt.plot([None for i in train_y] + [x for x in predictions])\n",
    "# plt.show()\n",
    "\n",
    "# plt.figure(figsize=(10, 6))\n",
    "# plot_series(time_valid, x_valid, start=0, end=1000)\n",
    "# plot_series(time_valid, naive_forecast, start=1, end=1000)\n",
    "\n",
    "# time_train, time_valid, x_train, x_valid = split_data(daily_df, 'new_confirmed_cases', 1)\n",
    "\n",
    "# naive_forecast = daily_df.new_confirmed_cases[split_time - 1:-1]\n",
    "\n",
    "# plt.figure(figsize=(10, 6))\n",
    "# plot_series(time_valid, x_valid)\n",
    "# plot_series(time_valid, naive_forecast)\n",
    "\n",
    "\n",
    "# import s\n",
    "# print(keras.metrics.mean_squared_error(x_valid, naive_forecast).numpy())\n",
    "# print(keras.metrics.mean_absolute_error(x_valid, naive_forecast).numpy())"
   ]
  },
  {
   "cell_type": "markdown",
   "metadata": {},
   "source": [
    "# Accumalitive Data\n"
   ]
  },
  {
   "cell_type": "code",
   "execution_count": null,
   "metadata": {},
   "outputs": [],
   "source": []
  },
  {
   "cell_type": "code",
   "execution_count": null,
   "metadata": {},
   "outputs": [],
   "source": []
  },
  {
   "cell_type": "code",
   "execution_count": null,
   "metadata": {},
   "outputs": [],
   "source": []
  },
  {
   "cell_type": "markdown",
   "metadata": {},
   "source": [
    "# Daily Data"
   ]
  },
  {
   "cell_type": "code",
   "execution_count": null,
   "metadata": {},
   "outputs": [],
   "source": []
  },
  {
   "cell_type": "code",
   "execution_count": null,
   "metadata": {},
   "outputs": [],
   "source": []
  },
  {
   "cell_type": "code",
   "execution_count": null,
   "metadata": {},
   "outputs": [],
   "source": []
  }
 ],
 "metadata": {
  "file_extension": ".py",
  "kernelspec": {
   "display_name": "Python 3",
   "language": "python",
   "name": "python3"
  },
  "language_info": {
   "codemirror_mode": {
    "name": "ipython",
    "version": 3
   },
   "file_extension": ".py",
   "mimetype": "text/x-python",
   "name": "python",
   "nbconvert_exporter": "python",
   "pygments_lexer": "ipython3",
   "version": "3.7.4"
  },
  "mimetype": "text/x-python",
  "name": "python",
  "npconvert_exporter": "python",
  "pygments_lexer": "ipython3",
  "version": 3
 },
 "nbformat": 4,
 "nbformat_minor": 4
}
