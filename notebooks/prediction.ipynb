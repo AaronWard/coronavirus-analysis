{
 "cells": [
  {
   "cell_type": "markdown",
   "metadata": {},
   "source": [
    "## Imports"
   ]
  },
  {
   "cell_type": "code",
   "execution_count": 1,
   "metadata": {},
   "outputs": [
    {
     "name": "stdout",
     "output_type": "stream",
     "text": [
      "2.0.0\n"
     ]
    }
   ],
   "source": [
    "# !pip install tensorflow==2.0.0\n",
    "import tensorflow as tf\n",
    "print(tf.__version__)"
   ]
  },
  {
   "cell_type": "code",
   "execution_count": 2,
   "metadata": {},
   "outputs": [
    {
     "name": "stderr",
     "output_type": "stream",
     "text": [
      "Using TensorFlow backend.\n"
     ]
    }
   ],
   "source": [
    "import os\n",
    "import keras\n",
    "import pickle\n",
    "import pyarrow\n",
    "import warnings\n",
    "import numpy as np\n",
    "import pandas as pd\n",
    "from datetime import datetime\n",
    "import matplotlib.pyplot as plt\n",
    "\n",
    "#set ggplot style\n",
    "plt.style.use('ggplot')\n",
    "\n",
    "warnings.filterwarnings(\"ignore\")\n",
    "%matplotlib inline"
   ]
  },
  {
   "cell_type": "markdown",
   "metadata": {},
   "source": [
    "## Import Data"
   ]
  },
  {
   "cell_type": "code",
   "execution_count": 3,
   "metadata": {},
   "outputs": [],
   "source": [
    "# Dynamic parameters\n",
    "data_dir  = '../data/' + str(datetime.date(datetime.now()))\n",
    "agg_file  = 'agg_data_{}.parquet.gzip'.format(datetime.date(datetime.now()))\n",
    "trend_file  = 'trend_{}.csv'.format(datetime.date(datetime.now()))\n",
    "\n",
    "# import data\n",
    "df = pd.read_parquet(os.path.join(data_dir, agg_file))\n",
    "# df = pd.read_csv(os.path.join(data_dir, trend_file), index_col=[0])"
   ]
  },
  {
   "cell_type": "markdown",
   "metadata": {},
   "source": [
    "### Plotting functions"
   ]
  },
  {
   "cell_type": "code",
   "execution_count": 4,
   "metadata": {},
   "outputs": [],
   "source": [
    "# Plots\n",
    "def plot_scatter_2vars(tmp_df, x_col, y_col):\n",
    "    tmp_df.plot(x=x_col, y=y_col, style='o')  \n",
    "    plt.title('Scatter plot for correlation of ' + x_col + ' and ' + y_col)  \n",
    "    plt.xlabel(x_col)  \n",
    "    plt.ylabel(y_col)  \n",
    "    plt.show()\n",
    "\n",
    "def plot_scatter_1var(tmp_df, col):    \n",
    "    tmp_df.groupby(['date'])[col].sum().plot(figsize=(10, 6), style='o') \n",
    "    plt.title('Regression on accumalitive Sum of Confirmed Cases')  \n",
    "    plt.xlabel('date')  \n",
    "    plt.ylabel('confirmed cases')  \n",
    "    plt.show()\n",
    "\n",
    "def plot_series(time, series, format=\"-\", start=0, end=None):\n",
    "    plt.plot(time[start:end], series[start:end], format)\n",
    "    plt.xlabel(\"Time\")\n",
    "    plt.ylabel(\"Value\")\n",
    "    plt.grid(True)\n",
    "    plt.show()\n"
   ]
  },
  {
   "cell_type": "markdown",
   "metadata": {},
   "source": [
    "## Type Conversion"
   ]
  },
  {
   "cell_type": "code",
   "execution_count": 6,
   "metadata": {},
   "outputs": [],
   "source": [
    "# Convert types\n",
    "if 'new_confirmed_cases' in df.columns:\n",
    "    for col in ['new_confirmed_cases', 'new_deaths', 'new_recoveries', 'currently_infected', 'delta']:\n",
    "        df[col] = df[col].astype(float)   \n",
    "else:\n",
    "    for col in ['confirmed', 'deaths', 'recovered']:\n",
    "        df[col] = df[col].replace('', 0).astype(float)\n",
    "\n",
    "df['date'] = df['date'].astype('datetime64[ns]')"
   ]
  },
  {
   "cell_type": "code",
   "execution_count": 7,
   "metadata": {},
   "outputs": [
    {
     "data": {
      "text/html": [
       "<div>\n",
       "<style scoped>\n",
       "    .dataframe tbody tr th:only-of-type {\n",
       "        vertical-align: middle;\n",
       "    }\n",
       "\n",
       "    .dataframe tbody tr th {\n",
       "        vertical-align: top;\n",
       "    }\n",
       "\n",
       "    .dataframe thead th {\n",
       "        text-align: right;\n",
       "    }\n",
       "</style>\n",
       "<table border=\"1\" class=\"dataframe\">\n",
       "  <thead>\n",
       "    <tr style=\"text-align: right;\">\n",
       "      <th></th>\n",
       "      <th>confirmed</th>\n",
       "      <th>country</th>\n",
       "      <th>date</th>\n",
       "      <th>deaths</th>\n",
       "      <th>province</th>\n",
       "      <th>recovered</th>\n",
       "    </tr>\n",
       "  </thead>\n",
       "  <tbody>\n",
       "    <tr>\n",
       "      <th>37</th>\n",
       "      <td>1.0</td>\n",
       "      <td>South Korea</td>\n",
       "      <td>2020-01-22</td>\n",
       "      <td>0.0</td>\n",
       "      <td></td>\n",
       "      <td>0.0</td>\n",
       "    </tr>\n",
       "    <tr>\n",
       "      <th>15</th>\n",
       "      <td>0.0</td>\n",
       "      <td>China</td>\n",
       "      <td>2020-01-22</td>\n",
       "      <td>0.0</td>\n",
       "      <td>Inner Mongolia</td>\n",
       "      <td>0.0</td>\n",
       "    </tr>\n",
       "    <tr>\n",
       "      <th>14</th>\n",
       "      <td>4.0</td>\n",
       "      <td>China</td>\n",
       "      <td>2020-01-22</td>\n",
       "      <td>0.0</td>\n",
       "      <td>Hunan</td>\n",
       "      <td>0.0</td>\n",
       "    </tr>\n",
       "    <tr>\n",
       "      <th>13</th>\n",
       "      <td>444.0</td>\n",
       "      <td>China</td>\n",
       "      <td>2020-01-22</td>\n",
       "      <td>0.0</td>\n",
       "      <td>Hubei</td>\n",
       "      <td>0.0</td>\n",
       "    </tr>\n",
       "    <tr>\n",
       "      <th>12</th>\n",
       "      <td>0.0</td>\n",
       "      <td>China</td>\n",
       "      <td>2020-01-22</td>\n",
       "      <td>0.0</td>\n",
       "      <td>Hong Kong</td>\n",
       "      <td>0.0</td>\n",
       "    </tr>\n",
       "  </tbody>\n",
       "</table>\n",
       "</div>"
      ],
      "text/plain": [
       "    confirmed      country       date  deaths        province  recovered\n",
       "37        1.0  South Korea 2020-01-22     0.0                        0.0\n",
       "15        0.0        China 2020-01-22     0.0  Inner Mongolia        0.0\n",
       "14        4.0        China 2020-01-22     0.0           Hunan        0.0\n",
       "13      444.0        China 2020-01-22     0.0           Hubei        0.0\n",
       "12        0.0        China 2020-01-22     0.0       Hong Kong        0.0"
      ]
     },
     "execution_count": 7,
     "metadata": {},
     "output_type": "execute_result"
    }
   ],
   "source": [
    "df.head()"
   ]
  },
  {
   "cell_type": "markdown",
   "metadata": {},
   "source": [
    "### Helper Functions"
   ]
  },
  {
   "cell_type": "code",
   "execution_count": 8,
   "metadata": {},
   "outputs": [],
   "source": [
    "def windowed_dataset(series, window_size, batch_size, shuffle_buffer):\n",
    "    series = tf.expand_dims(series, axis=-1)\n",
    "    ds = tf.data.Dataset.from_tensor_slices(series)\n",
    "    ds = ds.window(window_size + 1, shift=1, drop_remainder=True)\n",
    "    ds = ds.flat_map(lambda w: w.batch(window_size + 1))\n",
    "    ds = ds.shuffle(shuffle_buffer)\n",
    "    ds = ds.map(lambda w: (w[:-1], w[1:]))\n",
    "    return ds.batch(batch_size).prefetch(1)\n"
   ]
  },
  {
   "cell_type": "code",
   "execution_count": 9,
   "metadata": {},
   "outputs": [],
   "source": [
    "def model_forecast(model, series, window_size):\n",
    "    ds = tf.data.Dataset.from_tensor_slices(series)\n",
    "    ds = ds.window(window_size, shift=1, drop_remainder=True)\n",
    "    ds = ds.flat_map(lambda w: w.batch(window_size))\n",
    "    ds = ds.batch(32).prefetch(1)\n",
    "    forecast = model.predict(ds)\n",
    "    return forecast"
   ]
  },
  {
   "cell_type": "markdown",
   "metadata": {},
   "source": [
    "## Set Constants"
   ]
  },
  {
   "cell_type": "code",
   "execution_count": 10,
   "metadata": {},
   "outputs": [],
   "source": [
    "# Convert types\n",
    "if 'new_confirmed_cases' in df.columns:\n",
    "    series = np.array(df.new_confirmed_cases)\n",
    "    time = np.array(df.index)\n",
    "else:\n",
    "    series = np.array(df.confirmed)\n",
    "    df = df.reset_index()\n",
    "    time = np.array(df.index)\n"
   ]
  },
  {
   "cell_type": "code",
   "execution_count": 65,
   "metadata": {},
   "outputs": [],
   "source": [
    "# time"
   ]
  },
  {
   "cell_type": "code",
   "execution_count": 25,
   "metadata": {},
   "outputs": [],
   "source": [
    "split_time = 800\n",
    "time_train = time[:split_time]\n",
    "x_train = series[:split_time]\n",
    "time_valid = time[split_time:]\n",
    "x_valid = series[split_time:]\n",
    "\n",
    "window_size = 30\n",
    "batch_size = 32\n",
    "shuffle_buffer_size = 100\n"
   ]
  },
  {
   "cell_type": "markdown",
   "metadata": {},
   "source": [
    "### Inspect Data"
   ]
  },
  {
   "cell_type": "code",
   "execution_count": 26,
   "metadata": {},
   "outputs": [
    {
     "name": "stdout",
     "output_type": "stream",
     "text": [
      "Calulcating date ranges...\n",
      "\n",
      "... 2020-01-22 to 2020-02-07\n",
      "... -16 days +00:00:00\n",
      "\n",
      "\n"
     ]
    }
   ],
   "source": [
    "#Calculate range of trend data\n",
    "def time_range(tmp_df):\n",
    "    print('...', tmp_df['date'].min().date(), 'to',  tmp_df['date'].max().date())\n",
    "    print('...', tmp_df['date'].min() - tmp_df['date'].max())\n",
    "    print('\\n')\n",
    "\n",
    "print('Calulcating date ranges...\\n')\n",
    "time_range(df)"
   ]
  },
  {
   "cell_type": "code",
   "execution_count": 27,
   "metadata": {},
   "outputs": [
    {
     "data": {
      "text/html": [
       "<div>\n",
       "<style scoped>\n",
       "    .dataframe tbody tr th:only-of-type {\n",
       "        vertical-align: middle;\n",
       "    }\n",
       "\n",
       "    .dataframe tbody tr th {\n",
       "        vertical-align: top;\n",
       "    }\n",
       "\n",
       "    .dataframe thead th {\n",
       "        text-align: right;\n",
       "    }\n",
       "</style>\n",
       "<table border=\"1\" class=\"dataframe\">\n",
       "  <thead>\n",
       "    <tr style=\"text-align: right;\">\n",
       "      <th></th>\n",
       "      <th>index</th>\n",
       "      <th>confirmed</th>\n",
       "      <th>country</th>\n",
       "      <th>date</th>\n",
       "      <th>deaths</th>\n",
       "      <th>province</th>\n",
       "      <th>recovered</th>\n",
       "    </tr>\n",
       "  </thead>\n",
       "  <tbody>\n",
       "    <tr>\n",
       "      <th>0</th>\n",
       "      <td>37</td>\n",
       "      <td>1.0</td>\n",
       "      <td>South Korea</td>\n",
       "      <td>2020-01-22</td>\n",
       "      <td>0.0</td>\n",
       "      <td></td>\n",
       "      <td>0.0</td>\n",
       "    </tr>\n",
       "    <tr>\n",
       "      <th>1</th>\n",
       "      <td>15</td>\n",
       "      <td>0.0</td>\n",
       "      <td>China</td>\n",
       "      <td>2020-01-22</td>\n",
       "      <td>0.0</td>\n",
       "      <td>Inner Mongolia</td>\n",
       "      <td>0.0</td>\n",
       "    </tr>\n",
       "  </tbody>\n",
       "</table>\n",
       "</div>"
      ],
      "text/plain": [
       "   index  confirmed      country       date  deaths        province  recovered\n",
       "0     37        1.0  South Korea 2020-01-22     0.0                        0.0\n",
       "1     15        0.0        China 2020-01-22     0.0  Inner Mongolia        0.0"
      ]
     },
     "execution_count": 27,
     "metadata": {},
     "output_type": "execute_result"
    }
   ],
   "source": [
    "df.head(2)"
   ]
  },
  {
   "cell_type": "code",
   "execution_count": 28,
   "metadata": {},
   "outputs": [
    {
     "data": {
      "image/png": "[encoded data removed]",
      "text/plain": [
       "<Figure size 720x432 with 1 Axes>"
      ]
     },
     "metadata": {
      "needs_background": "light"
     },
     "output_type": "display_data"
    }
   ],
   "source": [
    "plt.figure(figsize=(10, 6))\n",
    "plot_series(time, series)"
   ]
  },
  {
   "cell_type": "code",
   "execution_count": 30,
   "metadata": {},
   "outputs": [],
   "source": [
    "# time_train, x_train"
   ]
  },
  {
   "cell_type": "code",
   "execution_count": 31,
   "metadata": {},
   "outputs": [
    {
     "data": {
      "text/plain": [
       "(array([800, 801, 802, 803, 804, 805, 806, 807, 808, 809, 810, 811, 812,\n",
       "        813, 814, 815, 816, 817, 818, 819, 820, 821, 822, 823, 824, 825,\n",
       "        826, 827, 828, 829, 830, 831, 832, 833, 834, 835, 836, 837, 838,\n",
       "        839, 840, 841, 842, 843, 844, 845, 846, 847, 848, 849, 850, 851,\n",
       "        852, 853, 854, 855, 856, 857, 858, 859, 860, 861, 862, 863, 864,\n",
       "        865, 866, 867, 868, 869, 870, 871, 872, 873, 874, 875, 876, 877,\n",
       "        878, 879, 880, 881, 882, 883, 884, 885, 886, 887, 888, 889, 890,\n",
       "        891, 892, 893, 894, 895, 896, 897, 898, 899, 900, 901, 902, 903,\n",
       "        904, 905, 906, 907, 908, 909, 910, 911, 912, 913, 914, 915, 916,\n",
       "        917, 918, 919, 920, 921, 922, 923, 924, 925, 926, 927, 928, 929,\n",
       "        930, 931, 932, 933, 934, 935, 936, 937, 938, 939, 940, 941, 942,\n",
       "        943, 944, 945, 946, 947, 948, 949, 950, 951, 952, 953, 954, 955,\n",
       "        956, 957, 958, 959, 960, 961, 962, 963, 964, 965, 966, 967, 968,\n",
       "        969, 970, 971, 972, 973, 974, 975, 976, 977, 978, 979, 980, 981,\n",
       "        982]),\n",
       " array([2.4300e+02, 2.0500e+02, 5.3000e+02, 1.9000e+01, 1.7000e+01,\n",
       "        1.2000e+01, 1.0000e+00, 1.0000e+00, 1.0000e+00, 1.0000e+00,\n",
       "        1.0000e+00, 1.0000e+00, 2.0000e+00, 1.0000e+00, 1.0000e+00,\n",
       "        1.0000e+00, 1.0000e+00, 1.0000e+00, 1.0000e+00, 1.0000e+00,\n",
       "        1.0000e+00, 2.0000e+00, 1.0000e+00, 2.0000e+00, 2.0000e+00,\n",
       "        1.1000e+01, 1.0000e+01, 8.0000e+00, 6.0000e+00, 4.0000e+00,\n",
       "        4.0000e+00, 5.0000e+00, 1.2000e+01, 3.0000e+00, 2.0000e+00,\n",
       "        2.0000e+00, 2.0000e+00, 2.0000e+00, 2.0000e+00, 3.0000e+00,\n",
       "        7.1000e+01, 1.0600e+02, 9.6000e+01, 9.4000e+01, 7.9000e+01,\n",
       "        6.5000e+01, 2.4000e+01, 4.6000e+01, 4.5000e+01, 4.0000e+01,\n",
       "        3.6000e+01, 2.8000e+01, 2.5000e+01, 1.3300e+02, 6.2000e+01,\n",
       "        1.7100e+02, 2.2112e+04, 1.7300e+02, 2.3000e+01, 9.7000e+02,\n",
       "        9.5400e+02, 8.5100e+02, 7.1100e+02, 6.0000e+02, 5.9100e+02,\n",
       "        4.1100e+02, 3.7300e+02, 3.4700e+02, 3.4400e+02, 2.7400e+02,\n",
       "        2.6900e+02, 2.2700e+02, 2.1500e+02, 1.7200e+02, 1.8000e+01,\n",
       "        2.0000e+00, 1.2000e+01, 1.0000e+00, 1.0000e+00, 1.0000e+00,\n",
       "        1.0000e+00, 1.0000e+00, 1.0000e+00, 1.0000e+00, 1.0000e+00,\n",
       "        1.0000e+00, 1.0000e+00, 1.0000e+00, 1.0000e+00, 1.0000e+00,\n",
       "        1.6000e+01, 1.0000e+00, 2.0000e+00, 1.0000e+00, 2.0000e+00,\n",
       "        2.0000e+00, 1.0000e+01, 1.0000e+01, 6.0000e+00, 5.0000e+00,\n",
       "        4.0000e+00, 4.0000e+00, 4.0000e+00, 1.2000e+01, 2.0000e+00,\n",
       "        2.0000e+00, 2.0000e+00, 2.0000e+00, 2.0000e+00, 2.0000e+00,\n",
       "        3.0000e+00, 6.7000e+01, 9.9000e+01, 9.6000e+01, 8.1000e+01,\n",
       "        8.1000e+01, 6.5000e+01, 2.5000e+01, 5.0000e+01, 4.3000e+01,\n",
       "        3.9000e+01, 3.0000e+01, 2.5000e+01, 2.5000e+01, 1.1700e+02,\n",
       "        6.1000e+01, 1.3800e+02, 1.0340e+03, 1.7200e+02, 2.4000e+01,\n",
       "        1.0060e+03, 9.1400e+02, 7.7200e+02, 6.6500e+02, 6.6100e+02,\n",
       "        4.1500e+02, 4.0800e+02, 3.8600e+02, 3.4400e+02, 2.9700e+02,\n",
       "        2.7700e+02, 2.7700e+02, 2.2400e+02, 1.8400e+02, 1.7200e+02,\n",
       "        1.8000e+01, 2.0000e+00, 1.3000e+01, 1.0000e+00, 1.0000e+00,\n",
       "        1.0000e+00, 1.0000e+00, 1.0000e+00, 1.0000e+00, 1.0000e+00,\n",
       "        1.0000e+00, 1.0000e+00, 1.0000e+00, 1.0000e+00, 1.0000e+00,\n",
       "        1.0000e+00, 1.0000e+00, 1.0000e+00, 2.0000e+00, 2.0000e+00,\n",
       "        2.0000e+00, 1.2000e+01, 1.0000e+01, 1.0000e+01, 6.0000e+00,\n",
       "        5.0000e+00, 5.0000e+00, 4.0000e+00, 4.0000e+00, 4.0000e+00,\n",
       "        3.0000e+00, 3.0000e+00, 3.0000e+00, 3.0000e+00, 2.0000e+00,\n",
       "        2.0000e+00, 1.6000e+01, 2.2112e+04]))"
      ]
     },
     "execution_count": 31,
     "metadata": {},
     "output_type": "execute_result"
    }
   ],
   "source": [
    "time_valid, x_valid"
   ]
  },
  {
   "cell_type": "markdown",
   "metadata": {},
   "source": [
    "## Find Optimal Learning Rate"
   ]
  },
  {
   "cell_type": "code",
   "execution_count": 32,
   "metadata": {},
   "outputs": [
    {
     "name": "stdout",
     "output_type": "stream",
     "text": [
      "<PrefetchDataset shapes: ((None, None, 1), (None, None, 1)), types: (tf.float64, tf.float64)>\n",
      "(800,)\n",
      "Epoch 1/150\n",
      "3/3 [==============================] - 4s 1s/step - loss: 170.3515 - mae: 168.5140\n",
      "Epoch 2/150\n",
      "3/3 [==============================] - 1s 187ms/step - loss: 128.1803 - mae: 168.4945\n",
      "Epoch 3/150\n",
      "3/3 [==============================] - 1s 183ms/step - loss: 129.0999 - mae: 168.4584\n",
      "Epoch 4/150\n",
      "3/3 [==============================] - 1s 183ms/step - loss: 128.7544 - mae: 168.4076\n",
      "Epoch 5/150\n",
      "3/3 [==============================] - 1s 196ms/step - loss: 129.7329 - mae: 168.3443\n",
      "Epoch 6/150\n",
      "3/3 [==============================] - 1s 193ms/step - loss: 129.2442 - mae: 168.2696\n",
      "Epoch 7/150\n",
      "3/3 [==============================] - 1s 181ms/step - loss: 129.2926 - mae: 168.1827\n",
      "Epoch 8/150\n",
      "3/3 [==============================] - 1s 184ms/step - loss: 128.4791 - mae: 168.0825\n",
      "Epoch 9/150\n",
      "3/3 [==============================] - 1s 181ms/step - loss: 128.2934 - mae: 167.9655\n",
      "Epoch 10/150\n",
      "3/3 [==============================] - 1s 180ms/step - loss: 128.1364 - mae: 167.8328\n",
      "Epoch 11/150\n",
      "3/3 [==============================] - 1s 199ms/step - loss: 128.1446 - mae: 167.6965\n",
      "Epoch 12/150\n",
      "3/3 [==============================] - 1s 186ms/step - loss: 129.8343 - mae: 167.5524\n",
      "Epoch 13/150\n",
      "3/3 [==============================] - 1s 189ms/step - loss: 128.1642 - mae: 167.3961\n",
      "Epoch 14/150\n",
      "3/3 [==============================] - 1s 224ms/step - loss: 128.7338 - mae: 167.2268\n",
      "Epoch 15/150\n",
      "3/3 [==============================] - 1s 260ms/step - loss: 127.6320 - mae: 167.0553\n",
      "Epoch 16/150\n",
      "3/3 [==============================] - 1s 239ms/step - loss: 128.2680 - mae: 166.8786\n",
      "Epoch 17/150\n",
      "3/3 [==============================] - 1s 211ms/step - loss: 127.2962 - mae: 166.6989\n",
      "Epoch 18/150\n",
      "3/3 [==============================] - 1s 194ms/step - loss: 128.1367 - mae: 166.5123\n",
      "Epoch 19/150\n",
      "3/3 [==============================] - 1s 196ms/step - loss: 128.3621 - mae: 166.3232\n",
      "Epoch 20/150\n",
      "3/3 [==============================] - 1s 192ms/step - loss: 126.5972 - mae: 166.1261\n",
      "Epoch 21/150\n",
      "3/3 [==============================] - 1s 200ms/step - loss: 127.3259 - mae: 165.9263\n",
      "Epoch 22/150\n",
      "3/3 [==============================] - 1s 209ms/step - loss: 127.3405 - mae: 165.7299\n",
      "Epoch 23/150\n",
      "3/3 [==============================] - 1s 226ms/step - loss: 125.5168 - mae: 165.5335\n",
      "Epoch 24/150\n",
      "3/3 [==============================] - 1s 230ms/step - loss: 127.3026 - mae: 165.3398\n",
      "Epoch 25/150\n",
      "3/3 [==============================] - 1s 231ms/step - loss: 125.3485 - mae: 165.1409\n",
      "Epoch 26/150\n",
      "3/3 [==============================] - 1s 195ms/step - loss: 124.6261 - mae: 164.9330\n",
      "Epoch 27/150\n",
      "3/3 [==============================] - 1s 188ms/step - loss: 125.1726 - mae: 164.7145\n",
      "Epoch 28/150\n",
      "3/3 [==============================] - 1s 201ms/step - loss: 126.1501 - mae: 164.4865\n",
      "Epoch 29/150\n",
      "3/3 [==============================] - 1s 212ms/step - loss: 124.4270 - mae: 164.2564\n",
      "Epoch 30/150\n",
      "3/3 [==============================] - 1s 213ms/step - loss: 126.5915 - mae: 164.0188\n",
      "Epoch 31/150\n",
      "3/3 [==============================] - 1s 224ms/step - loss: 125.0201 - mae: 163.7670\n",
      "Epoch 32/150\n",
      "3/3 [==============================] - 1s 219ms/step - loss: 124.6150 - mae: 163.5019\n",
      "Epoch 33/150\n",
      "3/3 [==============================] - 1s 203ms/step - loss: 123.4404 - mae: 163.2211\n",
      "Epoch 34/150\n",
      "3/3 [==============================] - 1s 193ms/step - loss: 124.8176 - mae: 162.9286\n",
      "Epoch 35/150\n",
      "3/3 [==============================] - 1s 211ms/step - loss: 124.1703 - mae: 162.6247\n",
      "Epoch 36/150\n",
      "3/3 [==============================] - 1s 252ms/step - loss: 123.7676 - mae: 162.2923\n",
      "Epoch 37/150\n",
      "3/3 [==============================] - 1s 263ms/step - loss: 123.5664 - mae: 161.8865\n",
      "Epoch 38/150\n",
      "3/3 [==============================] - 1s 262ms/step - loss: 120.6183 - mae: 161.5011\n",
      "Epoch 39/150\n",
      "3/3 [==============================] - 1s 268ms/step - loss: 122.3774 - mae: 161.0906\n",
      "Epoch 40/150\n",
      "3/3 [==============================] - 1s 249ms/step - loss: 121.8042 - mae: 160.7063\n",
      "Epoch 41/150\n",
      "3/3 [==============================] - 1s 197ms/step - loss: 120.6246 - mae: 160.3313\n",
      "Epoch 42/150\n",
      "3/3 [==============================] - 1s 205ms/step - loss: 121.7401 - mae: 159.9326\n",
      "Epoch 43/150\n",
      "3/3 [==============================] - 1s 213ms/step - loss: 120.1953 - mae: 159.5124\n",
      "Epoch 44/150\n",
      "3/3 [==============================] - 1s 245ms/step - loss: 119.5794 - mae: 159.0370\n",
      "Epoch 45/150\n",
      "3/3 [==============================] - 1s 215ms/step - loss: 120.3721 - mae: 158.5720\n",
      "Epoch 46/150\n",
      "3/3 [==============================] - 1s 211ms/step - loss: 119.6148 - mae: 158.1002\n",
      "Epoch 47/150\n",
      "3/3 [==============================] - 1s 211ms/step - loss: 117.9753 - mae: 157.6246\n",
      "Epoch 48/150\n",
      "3/3 [==============================] - 1s 190ms/step - loss: 118.3063 - mae: 157.1111\n",
      "Epoch 49/150\n",
      "3/3 [==============================] - 1s 182ms/step - loss: 119.8971 - mae: 156.5616\n",
      "Epoch 50/150\n",
      "3/3 [==============================] - 1s 190ms/step - loss: 117.0970 - mae: 155.9973\n",
      "Epoch 51/150\n",
      "3/3 [==============================] - 1s 192ms/step - loss: 117.0629 - mae: 155.4375\n",
      "Epoch 52/150\n",
      "3/3 [==============================] - 1s 178ms/step - loss: 116.6606 - mae: 154.7780\n",
      "Epoch 53/150\n",
      "3/3 [==============================] - 1s 183ms/step - loss: 115.9583 - mae: 154.1467\n",
      "Epoch 54/150\n",
      "3/3 [==============================] - 1s 195ms/step - loss: 113.7473 - mae: 153.5270\n",
      "Epoch 55/150\n",
      "3/3 [==============================] - 1s 232ms/step - loss: 114.2099 - mae: 152.8753\n",
      "Epoch 56/150\n",
      "3/3 [==============================] - 1s 228ms/step - loss: 114.5703 - mae: 152.2977\n",
      "Epoch 57/150\n",
      "3/3 [==============================] - 1s 202ms/step - loss: 112.7662 - mae: 151.8525\n",
      "Epoch 58/150\n",
      "3/3 [==============================] - 1s 225ms/step - loss: 112.4757 - mae: 151.3759\n",
      "Epoch 59/150\n",
      "3/3 [==============================] - 1s 190ms/step - loss: 113.5328 - mae: 150.8604\n",
      "Epoch 60/150\n",
      "3/3 [==============================] - 1s 183ms/step - loss: 113.6195 - mae: 150.3754\n",
      "Epoch 61/150\n",
      "3/3 [==============================] - 1s 178ms/step - loss: 112.7583 - mae: 149.8895\n",
      "Epoch 62/150\n",
      "3/3 [==============================] - 1s 210ms/step - loss: 110.1010 - mae: 149.4823\n",
      "Epoch 63/150\n",
      "3/3 [==============================] - 1s 204ms/step - loss: 111.9497 - mae: 149.0208\n",
      "Epoch 64/150\n",
      "3/3 [==============================] - 1s 222ms/step - loss: 110.2209 - mae: 148.6189\n",
      "Epoch 65/150\n",
      "3/3 [==============================] - 1s 219ms/step - loss: 110.4737 - mae: 148.2933\n",
      "Epoch 66/150\n",
      "3/3 [==============================] - 1s 253ms/step - loss: 110.9249 - mae: 147.7173\n",
      "Epoch 67/150\n",
      "3/3 [==============================] - 1s 253ms/step - loss: 111.1209 - mae: 147.6625\n",
      "Epoch 68/150\n",
      "3/3 [==============================] - 1s 232ms/step - loss: 109.8802 - mae: 147.1939\n",
      "Epoch 69/150\n",
      "3/3 [==============================] - 1s 198ms/step - loss: 110.7031 - mae: 147.2542\n",
      "Epoch 70/150\n",
      "3/3 [==============================] - 1s 208ms/step - loss: 109.2712 - mae: 147.0617\n",
      "Epoch 71/150\n",
      "3/3 [==============================] - 1s 224ms/step - loss: 110.8586 - mae: 148.1652\n",
      "Epoch 72/150\n",
      "3/3 [==============================] - 1s 254ms/step - loss: 109.4942 - mae: 146.7579\n",
      "Epoch 73/150\n",
      "3/3 [==============================] - 1s 254ms/step - loss: 109.3434 - mae: 147.0456\n",
      "Epoch 74/150\n",
      "3/3 [==============================] - 1s 267ms/step - loss: 108.6014 - mae: 146.1086\n",
      "Epoch 75/150\n",
      "3/3 [==============================] - 1s 283ms/step - loss: 110.3673 - mae: 147.9142\n",
      "Epoch 76/150\n",
      "3/3 [==============================] - 1s 242ms/step - loss: 112.0682 - mae: 148.9991\n",
      "Epoch 77/150\n",
      "3/3 [==============================] - 1s 256ms/step - loss: 115.5390 - mae: 151.1884\n",
      "Epoch 78/150\n",
      "3/3 [==============================] - 1s 346ms/step - loss: 115.8887 - mae: 151.1865\n",
      "Epoch 79/150\n",
      "3/3 [==============================] - 1s 278ms/step - loss: 120.9520 - mae: 160.2890\n",
      "Epoch 80/150\n",
      "3/3 [==============================] - 1s 216ms/step - loss: 118.3967 - mae: 154.1667\n",
      "Epoch 81/150\n",
      "3/3 [==============================] - 1s 227ms/step - loss: 113.6453 - mae: 151.7975\n",
      "Epoch 82/150\n",
      "3/3 [==============================] - 1s 217ms/step - loss: 111.1346 - mae: 149.4647\n",
      "Epoch 83/150\n",
      "3/3 [==============================] - 1s 200ms/step - loss: 114.6310 - mae: 150.6281\n",
      "Epoch 84/150\n",
      "3/3 [==============================] - 1s 203ms/step - loss: 119.7886 - mae: 155.6855\n",
      "Epoch 85/150\n",
      "3/3 [==============================] - 1s 192ms/step - loss: 120.7035 - mae: 159.1646\n",
      "Epoch 86/150\n",
      "3/3 [==============================] - 1s 194ms/step - loss: 116.8344 - mae: 154.8353\n",
      "Epoch 87/150\n",
      "3/3 [==============================] - 1s 274ms/step - loss: 115.0217 - mae: 150.0100\n",
      "Epoch 88/150\n",
      "3/3 [==============================] - 1s 240ms/step - loss: 122.4446 - mae: 159.3899\n",
      "Epoch 89/150\n",
      "3/3 [==============================] - 1s 205ms/step - loss: 116.3681 - mae: 157.3058\n",
      "Epoch 90/150\n",
      "3/3 [==============================] - 1s 206ms/step - loss: 113.8556 - mae: 151.5050\n",
      "Epoch 91/150\n",
      "3/3 [==============================] - 1s 225ms/step - loss: 115.7058 - mae: 151.9501\n",
      "Epoch 92/150\n",
      "3/3 [==============================] - 1s 191ms/step - loss: 115.9331 - mae: 151.7234\n",
      "Epoch 93/150\n",
      "3/3 [==============================] - 1s 194ms/step - loss: 122.8220 - mae: 165.5368\n",
      "Epoch 94/150\n",
      "3/3 [==============================] - 1s 193ms/step - loss: 129.7385 - mae: 166.5258\n",
      "Epoch 95/150\n",
      "3/3 [==============================] - 1s 194ms/step - loss: 135.3599 - mae: 177.7063\n",
      "Epoch 96/150\n",
      "3/3 [==============================] - 1s 193ms/step - loss: 167.2037 - mae: 211.8798\n",
      "Epoch 97/150\n",
      "3/3 [==============================] - 1s 192ms/step - loss: 141.8743 - mae: 179.4383\n",
      "Epoch 98/150\n",
      "3/3 [==============================] - 1s 198ms/step - loss: 144.6534 - mae: 178.3753\n",
      "Epoch 99/150\n",
      "3/3 [==============================] - 1s 198ms/step - loss: 141.5629 - mae: 173.4809\n",
      "Epoch 100/150\n",
      "3/3 [==============================] - 1s 201ms/step - loss: 171.3095 - mae: 208.5805\n",
      "Epoch 101/150\n",
      "3/3 [==============================] - 1s 212ms/step - loss: 194.1818 - mae: 216.7137\n",
      "Epoch 102/150\n",
      "3/3 [==============================] - 1s 198ms/step - loss: 208.0260 - mae: 249.0424\n",
      "Epoch 103/150\n",
      "3/3 [==============================] - 1s 227ms/step - loss: 281.1691 - mae: 297.2470\n",
      "Epoch 104/150\n",
      "3/3 [==============================] - 1s 254ms/step - loss: 192.0218 - mae: 230.9619\n",
      "Epoch 105/150\n",
      "3/3 [==============================] - 1s 218ms/step - loss: 253.3045 - mae: 309.8037\n",
      "Epoch 106/150\n",
      "3/3 [==============================] - 1s 205ms/step - loss: 156.9602 - mae: 198.6153\n",
      "Epoch 107/150\n",
      "3/3 [==============================] - 1s 198ms/step - loss: 173.0746 - mae: 219.0330\n",
      "Epoch 108/150\n",
      "3/3 [==============================] - 1s 192ms/step - loss: 284.8727 - mae: 328.9399\n",
      "Epoch 109/150\n",
      "3/3 [==============================] - 1s 197ms/step - loss: 254.7871 - mae: 296.9426\n",
      "Epoch 110/150\n",
      "3/3 [==============================] - 1s 200ms/step - loss: 351.9900 - mae: 431.9872\n",
      "Epoch 111/150\n",
      "3/3 [==============================] - 1s 198ms/step - loss: 526.9729 - mae: 644.2498\n",
      "Epoch 112/150\n",
      "3/3 [==============================] - 1s 194ms/step - loss: 508.6078 - mae: 580.2059\n",
      "Epoch 113/150\n",
      "3/3 [==============================] - 1s 199ms/step - loss: 556.0329 - mae: 636.9710\n",
      "Epoch 114/150\n",
      "3/3 [==============================] - 1s 193ms/step - loss: 310.9073 - mae: 352.2486\n",
      "Epoch 115/150\n",
      "3/3 [==============================] - 1s 197ms/step - loss: 505.7494 - mae: 554.5129\n",
      "Epoch 116/150\n",
      "3/3 [==============================] - 1s 195ms/step - loss: 464.0079 - mae: 544.4495\n",
      "Epoch 117/150\n",
      "3/3 [==============================] - 1s 194ms/step - loss: 611.4952 - mae: 659.3829\n",
      "Epoch 118/150\n",
      "3/3 [==============================] - 1s 200ms/step - loss: 265.6724 - mae: 351.6027\n",
      "Epoch 119/150\n",
      "3/3 [==============================] - 1s 194ms/step - loss: 393.4798 - mae: 464.7417\n",
      "Epoch 120/150\n",
      "3/3 [==============================] - 1s 194ms/step - loss: 1035.0464 - mae: 1249.1218\n",
      "Epoch 121/150\n",
      "3/3 [==============================] - 1s 207ms/step - loss: 1630.9062 - mae: 2072.9985\n",
      "Epoch 122/150\n",
      "3/3 [==============================] - 1s 231ms/step - loss: 1820.9447 - mae: 2260.8015\n",
      "Epoch 123/150\n",
      "3/3 [==============================] - 1s 197ms/step - loss: 4524.0821 - mae: 3964.6953\n",
      "Epoch 124/150\n",
      "3/3 [==============================] - 1s 195ms/step - loss: 3148.8512 - mae: 3179.1016\n",
      "Epoch 125/150\n",
      "3/3 [==============================] - 1s 200ms/step - loss: 3030.3879 - mae: 3941.6548\n",
      "Epoch 126/150\n",
      "3/3 [==============================] - 1s 189ms/step - loss: 4078.0858 - mae: 4005.3220\n",
      "Epoch 127/150\n",
      "3/3 [==============================] - 1s 189ms/step - loss: 5531.6845 - mae: 4656.8164\n",
      "Epoch 128/150\n",
      "3/3 [==============================] - 1s 190ms/step - loss: 5961.1178 - mae: 5927.5244\n",
      "Epoch 129/150\n",
      "3/3 [==============================] - 1s 192ms/step - loss: 4946.7223 - mae: 6460.2827\n",
      "Epoch 130/150\n",
      "3/3 [==============================] - 1s 186ms/step - loss: 7672.6254 - mae: 6706.3198\n",
      "Epoch 131/150\n",
      "3/3 [==============================] - 1s 191ms/step - loss: 5669.8840 - mae: 4694.1914\n",
      "Epoch 132/150\n",
      "3/3 [==============================] - 1s 190ms/step - loss: 2176.1787 - mae: 1821.1927\n",
      "Epoch 133/150\n",
      "3/3 [==============================] - 1s 188ms/step - loss: 5904.8592 - mae: 4601.7578\n",
      "Epoch 134/150\n",
      "3/3 [==============================] - 1s 187ms/step - loss: 11213.8320 - mae: 10445.6934\n",
      "Epoch 135/150\n",
      "3/3 [==============================] - 1s 188ms/step - loss: 4613.2805 - mae: 3692.8696\n",
      "Epoch 136/150\n",
      "3/3 [==============================] - 1s 194ms/step - loss: 12394.1494 - mae: 11174.0342\n",
      "Epoch 137/150\n",
      "3/3 [==============================] - 1s 190ms/step - loss: 9493.0176 - mae: 8445.4023\n",
      "Epoch 138/150\n",
      "3/3 [==============================] - 1s 191ms/step - loss: 11577.2434 - mae: 10088.0166\n",
      "Epoch 139/150\n",
      "3/3 [==============================] - 1s 196ms/step - loss: 15483.6188 - mae: 14094.6631\n",
      "Epoch 140/150\n",
      "3/3 [==============================] - 1s 227ms/step - loss: 11485.7079 - mae: 9651.7314\n",
      "Epoch 141/150\n",
      "3/3 [==============================] - 1s 223ms/step - loss: 22144.9818 - mae: 20344.8613\n",
      "Epoch 142/150\n",
      "3/3 [==============================] - 1s 194ms/step - loss: 12476.7582 - mae: 10247.7822\n",
      "Epoch 143/150\n",
      "3/3 [==============================] - 1s 192ms/step - loss: 29096.7393 - mae: 26771.3340\n",
      "Epoch 144/150\n",
      "3/3 [==============================] - 1s 188ms/step - loss: 15360.5548 - mae: 12643.9189\n",
      "Epoch 145/150\n",
      "3/3 [==============================] - 1s 188ms/step - loss: 36118.6601 - mae: 33126.6992\n",
      "Epoch 146/150\n",
      "3/3 [==============================] - 1s 198ms/step - loss: 20476.6615 - mae: 17101.6543\n",
      "Epoch 147/150\n",
      "3/3 [==============================] - 1s 190ms/step - loss: 43875.3392 - mae: 40077.2930\n",
      "Epoch 148/150\n",
      "3/3 [==============================] - 1s 186ms/step - loss: 27710.0752 - mae: 23479.5645\n",
      "Epoch 149/150\n",
      "3/3 [==============================] - 1s 195ms/step - loss: 53059.4244 - mae: 48269.0430\n",
      "Epoch 150/150\n",
      "3/3 [==============================] - 1s 192ms/step - loss: 37236.5054 - mae: 31915.7930\n"
     ]
    }
   ],
   "source": [
    "'''\n",
    "Train a model using LearningRateScheduler to find the be \n",
    "learning rate\n",
    "'''\n",
    "tf.keras.backend.clear_session()\n",
    "tf.random.set_seed(51)\n",
    "np.random.seed(51)\n",
    "window_size = 64\n",
    "batch_size = 250\n",
    "train_set = windowed_dataset(x_train, window_size, batch_size, shuffle_buffer_size)\n",
    "print(train_set)\n",
    "print(x_train.shape)\n",
    "\n",
    "model = tf.keras.models.Sequential([\n",
    "  tf.keras.layers.Conv1D(filters=32, kernel_size=5,\n",
    "                      strides=1, padding=\"causal\",\n",
    "                      activation=\"relu\",\n",
    "                      input_shape=[None, 1]),\n",
    "  tf.keras.layers.LSTM(64, return_sequences=True),\n",
    "  tf.keras.layers.LSTM(64, return_sequences=True),\n",
    "  tf.keras.layers.Dense(30, activation=\"relu\"),\n",
    "  tf.keras.layers.Dense(10, activation=\"relu\"),\n",
    "  tf.keras.layers.Dense(1),\n",
    "  tf.keras.layers.Lambda(lambda x: x * 400)\n",
    "])\n",
    "\n",
    "lr_schedule = tf.keras.callbacks.LearningRateScheduler(\n",
    "    lambda epoch: 1e-8 * 10**(epoch / 20))\n",
    "optimizer = tf.keras.optimizers.SGD(lr=1e-8, momentum=0.9)\n",
    "model.compile(loss=tf.keras.losses.Huber(),\n",
    "              optimizer=optimizer,\n",
    "              metrics=[\"mae\"], verbose=2)\n",
    "history = model.fit(train_set, epochs=150, callbacks=[lr_schedule])\n"
   ]
  },
  {
   "cell_type": "code",
   "execution_count": 18,
   "metadata": {},
   "outputs": [
    {
     "data": {
      "text/plain": [
       "[1e-06, 0.0001, 0, 2000]"
      ]
     },
     "execution_count": 18,
     "metadata": {},
     "output_type": "execute_result"
    },
    {
     "data": {
      "image/png": "[encoded data removed]",
      "text/plain": [
       "<Figure size 432x288 with 1 Axes>"
      ]
     },
     "metadata": {
      "needs_background": "light"
     },
     "output_type": "display_data"
    }
   ],
   "source": [
    "plt.semilogx(history.history[\"lr\"], history.history[\"loss\"])\n",
    "plt.axis([1e-6, 1e-4, 0, 2000])"
   ]
  },
  {
   "cell_type": "markdown",
   "metadata": {},
   "source": [
    "## Retrain model with Optimal LR"
   ]
  },
  {
   "cell_type": "code",
   "execution_count": 43,
   "metadata": {},
   "outputs": [
    {
     "name": "stdout",
     "output_type": "stream",
     "text": [
      "Epoch 1/200\n",
      "26/26 [==============================] - 8s 293ms/step - loss: 170.7283 - mae: 168.6056\n",
      "Epoch 2/200\n",
      "26/26 [==============================] - 1s 56ms/step - loss: 165.9271 - mae: 168.6049\n",
      "Epoch 3/200\n",
      "26/26 [==============================] - 1s 54ms/step - loss: 166.0682 - mae: 168.6042\n",
      "Epoch 4/200\n",
      "26/26 [==============================] - 1s 50ms/step - loss: 163.5668 - mae: 168.6035\n",
      "Epoch 5/200\n",
      "26/26 [==============================] - 1s 48ms/step - loss: 162.8862 - mae: 168.6029\n",
      "Epoch 6/200\n",
      "26/26 [==============================] - 1s 48ms/step - loss: 164.7575 - mae: 168.6022\n",
      "Epoch 7/200\n",
      "11/26 [===========>..................] - ETA: 0s - loss: 70.6298 - mae: 71.1061"
     ]
    },
    {
     "ename": "KeyboardInterrupt",
     "evalue": "",
     "output_type": "error",
     "traceback": [
      "\u001b[0;31m---------------------------------------------------------------------------\u001b[0m",
      "\u001b[0;31mKeyboardInterrupt\u001b[0m                         Traceback (most recent call last)",
      "\u001b[0;32m<ipython-input-43-0eb6de81942e>\u001b[0m in \u001b[0;36m<module>\u001b[0;34m\u001b[0m\n\u001b[1;32m     24\u001b[0m               \u001b[0moptimizer\u001b[0m\u001b[0;34m=\u001b[0m\u001b[0moptimizer\u001b[0m\u001b[0;34m,\u001b[0m\u001b[0;34m\u001b[0m\u001b[0;34m\u001b[0m\u001b[0m\n\u001b[1;32m     25\u001b[0m               metrics=[\"mae\"])\n\u001b[0;32m---> 26\u001b[0;31m \u001b[0mhistory\u001b[0m \u001b[0;34m=\u001b[0m \u001b[0mmodel\u001b[0m\u001b[0;34m.\u001b[0m\u001b[0mfit\u001b[0m\u001b[0;34m(\u001b[0m\u001b[0mtrain_set\u001b[0m\u001b[0;34m,\u001b[0m\u001b[0mepochs\u001b[0m\u001b[0;34m=\u001b[0m\u001b[0;36m200\u001b[0m\u001b[0;34m)\u001b[0m\u001b[0;34m\u001b[0m\u001b[0;34m\u001b[0m\u001b[0m\n\u001b[0m",
      "\u001b[0;32m/anaconda3/lib/python3.6/site-packages/tensorflow_core/python/keras/engine/training.py\u001b[0m in \u001b[0;36mfit\u001b[0;34m(self, x, y, batch_size, epochs, verbose, callbacks, validation_split, validation_data, shuffle, class_weight, sample_weight, initial_epoch, steps_per_epoch, validation_steps, validation_freq, max_queue_size, workers, use_multiprocessing, **kwargs)\u001b[0m\n\u001b[1;32m    726\u001b[0m         \u001b[0mmax_queue_size\u001b[0m\u001b[0;34m=\u001b[0m\u001b[0mmax_queue_size\u001b[0m\u001b[0;34m,\u001b[0m\u001b[0;34m\u001b[0m\u001b[0;34m\u001b[0m\u001b[0m\n\u001b[1;32m    727\u001b[0m         \u001b[0mworkers\u001b[0m\u001b[0;34m=\u001b[0m\u001b[0mworkers\u001b[0m\u001b[0;34m,\u001b[0m\u001b[0;34m\u001b[0m\u001b[0;34m\u001b[0m\u001b[0m\n\u001b[0;32m--> 728\u001b[0;31m         use_multiprocessing=use_multiprocessing)\n\u001b[0m\u001b[1;32m    729\u001b[0m \u001b[0;34m\u001b[0m\u001b[0m\n\u001b[1;32m    730\u001b[0m   def evaluate(self,\n",
      "\u001b[0;32m/anaconda3/lib/python3.6/site-packages/tensorflow_core/python/keras/engine/training_v2.py\u001b[0m in \u001b[0;36mfit\u001b[0;34m(self, model, x, y, batch_size, epochs, verbose, callbacks, validation_split, validation_data, shuffle, class_weight, sample_weight, initial_epoch, steps_per_epoch, validation_steps, validation_freq, **kwargs)\u001b[0m\n\u001b[1;32m    322\u001b[0m                 \u001b[0mmode\u001b[0m\u001b[0;34m=\u001b[0m\u001b[0mModeKeys\u001b[0m\u001b[0;34m.\u001b[0m\u001b[0mTRAIN\u001b[0m\u001b[0;34m,\u001b[0m\u001b[0;34m\u001b[0m\u001b[0;34m\u001b[0m\u001b[0m\n\u001b[1;32m    323\u001b[0m                 \u001b[0mtraining_context\u001b[0m\u001b[0;34m=\u001b[0m\u001b[0mtraining_context\u001b[0m\u001b[0;34m,\u001b[0m\u001b[0;34m\u001b[0m\u001b[0;34m\u001b[0m\u001b[0m\n\u001b[0;32m--> 324\u001b[0;31m                 total_epochs=epochs)\n\u001b[0m\u001b[1;32m    325\u001b[0m             \u001b[0mcbks\u001b[0m\u001b[0;34m.\u001b[0m\u001b[0mmake_logs\u001b[0m\u001b[0;34m(\u001b[0m\u001b[0mmodel\u001b[0m\u001b[0;34m,\u001b[0m \u001b[0mepoch_logs\u001b[0m\u001b[0;34m,\u001b[0m \u001b[0mtraining_result\u001b[0m\u001b[0;34m,\u001b[0m \u001b[0mModeKeys\u001b[0m\u001b[0;34m.\u001b[0m\u001b[0mTRAIN\u001b[0m\u001b[0;34m)\u001b[0m\u001b[0;34m\u001b[0m\u001b[0;34m\u001b[0m\u001b[0m\n\u001b[1;32m    326\u001b[0m \u001b[0;34m\u001b[0m\u001b[0m\n",
      "\u001b[0;32m/anaconda3/lib/python3.6/site-packages/tensorflow_core/python/keras/engine/training_v2.py\u001b[0m in \u001b[0;36mrun_one_epoch\u001b[0;34m(model, iterator, execution_function, dataset_size, batch_size, strategy, steps_per_epoch, num_samples, mode, training_context, total_epochs)\u001b[0m\n\u001b[1;32m    121\u001b[0m         step=step, mode=mode, size=current_batch_size) as batch_logs:\n\u001b[1;32m    122\u001b[0m       \u001b[0;32mtry\u001b[0m\u001b[0;34m:\u001b[0m\u001b[0;34m\u001b[0m\u001b[0;34m\u001b[0m\u001b[0m\n\u001b[0;32m--> 123\u001b[0;31m         \u001b[0mbatch_outs\u001b[0m \u001b[0;34m=\u001b[0m \u001b[0mexecution_function\u001b[0m\u001b[0;34m(\u001b[0m\u001b[0miterator\u001b[0m\u001b[0;34m)\u001b[0m\u001b[0;34m\u001b[0m\u001b[0;34m\u001b[0m\u001b[0m\n\u001b[0m\u001b[1;32m    124\u001b[0m       \u001b[0;32mexcept\u001b[0m \u001b[0;34m(\u001b[0m\u001b[0mStopIteration\u001b[0m\u001b[0;34m,\u001b[0m \u001b[0merrors\u001b[0m\u001b[0;34m.\u001b[0m\u001b[0mOutOfRangeError\u001b[0m\u001b[0;34m)\u001b[0m\u001b[0;34m:\u001b[0m\u001b[0;34m\u001b[0m\u001b[0;34m\u001b[0m\u001b[0m\n\u001b[1;32m    125\u001b[0m         \u001b[0;31m# TODO(kaftan): File bug about tf function and errors.OutOfRangeError?\u001b[0m\u001b[0;34m\u001b[0m\u001b[0;34m\u001b[0m\u001b[0;34m\u001b[0m\u001b[0m\n",
      "\u001b[0;32m/anaconda3/lib/python3.6/site-packages/tensorflow_core/python/keras/engine/training_v2_utils.py\u001b[0m in \u001b[0;36mexecution_function\u001b[0;34m(input_fn)\u001b[0m\n\u001b[1;32m     84\u001b[0m     \u001b[0;31m# `numpy` translates Tensors to values in Eager mode.\u001b[0m\u001b[0;34m\u001b[0m\u001b[0;34m\u001b[0m\u001b[0;34m\u001b[0m\u001b[0m\n\u001b[1;32m     85\u001b[0m     return nest.map_structure(_non_none_constant_value,\n\u001b[0;32m---> 86\u001b[0;31m                               distributed_function(input_fn))\n\u001b[0m\u001b[1;32m     87\u001b[0m \u001b[0;34m\u001b[0m\u001b[0m\n\u001b[1;32m     88\u001b[0m   \u001b[0;32mreturn\u001b[0m \u001b[0mexecution_function\u001b[0m\u001b[0;34m\u001b[0m\u001b[0;34m\u001b[0m\u001b[0m\n",
      "\u001b[0;32m/anaconda3/lib/python3.6/site-packages/tensorflow_core/python/eager/def_function.py\u001b[0m in \u001b[0;36m__call__\u001b[0;34m(self, *args, **kwds)\u001b[0m\n\u001b[1;32m    455\u001b[0m \u001b[0;34m\u001b[0m\u001b[0m\n\u001b[1;32m    456\u001b[0m     \u001b[0mtracing_count\u001b[0m \u001b[0;34m=\u001b[0m \u001b[0mself\u001b[0m\u001b[0;34m.\u001b[0m\u001b[0m_get_tracing_count\u001b[0m\u001b[0;34m(\u001b[0m\u001b[0;34m)\u001b[0m\u001b[0;34m\u001b[0m\u001b[0;34m\u001b[0m\u001b[0m\n\u001b[0;32m--> 457\u001b[0;31m     \u001b[0mresult\u001b[0m \u001b[0;34m=\u001b[0m \u001b[0mself\u001b[0m\u001b[0;34m.\u001b[0m\u001b[0m_call\u001b[0m\u001b[0;34m(\u001b[0m\u001b[0;34m*\u001b[0m\u001b[0margs\u001b[0m\u001b[0;34m,\u001b[0m \u001b[0;34m**\u001b[0m\u001b[0mkwds\u001b[0m\u001b[0;34m)\u001b[0m\u001b[0;34m\u001b[0m\u001b[0;34m\u001b[0m\u001b[0m\n\u001b[0m\u001b[1;32m    458\u001b[0m     \u001b[0;32mif\u001b[0m \u001b[0mtracing_count\u001b[0m \u001b[0;34m==\u001b[0m \u001b[0mself\u001b[0m\u001b[0;34m.\u001b[0m\u001b[0m_get_tracing_count\u001b[0m\u001b[0;34m(\u001b[0m\u001b[0;34m)\u001b[0m\u001b[0;34m:\u001b[0m\u001b[0;34m\u001b[0m\u001b[0;34m\u001b[0m\u001b[0m\n\u001b[1;32m    459\u001b[0m       \u001b[0mself\u001b[0m\u001b[0;34m.\u001b[0m\u001b[0m_call_counter\u001b[0m\u001b[0;34m.\u001b[0m\u001b[0mcalled_without_tracing\u001b[0m\u001b[0;34m(\u001b[0m\u001b[0;34m)\u001b[0m\u001b[0;34m\u001b[0m\u001b[0;34m\u001b[0m\u001b[0m\n",
      "\u001b[0;32m/anaconda3/lib/python3.6/site-packages/tensorflow_core/python/eager/def_function.py\u001b[0m in \u001b[0;36m_call\u001b[0;34m(self, *args, **kwds)\u001b[0m\n\u001b[1;32m    485\u001b[0m       \u001b[0;31m# In this case we have created variables on the first call, so we run the\u001b[0m\u001b[0;34m\u001b[0m\u001b[0;34m\u001b[0m\u001b[0;34m\u001b[0m\u001b[0m\n\u001b[1;32m    486\u001b[0m       \u001b[0;31m# defunned version which is guaranteed to never create variables.\u001b[0m\u001b[0;34m\u001b[0m\u001b[0;34m\u001b[0m\u001b[0;34m\u001b[0m\u001b[0m\n\u001b[0;32m--> 487\u001b[0;31m       \u001b[0;32mreturn\u001b[0m \u001b[0mself\u001b[0m\u001b[0;34m.\u001b[0m\u001b[0m_stateless_fn\u001b[0m\u001b[0;34m(\u001b[0m\u001b[0;34m*\u001b[0m\u001b[0margs\u001b[0m\u001b[0;34m,\u001b[0m \u001b[0;34m**\u001b[0m\u001b[0mkwds\u001b[0m\u001b[0;34m)\u001b[0m  \u001b[0;31m# pylint: disable=not-callable\u001b[0m\u001b[0;34m\u001b[0m\u001b[0;34m\u001b[0m\u001b[0m\n\u001b[0m\u001b[1;32m    488\u001b[0m     \u001b[0;32melif\u001b[0m \u001b[0mself\u001b[0m\u001b[0;34m.\u001b[0m\u001b[0m_stateful_fn\u001b[0m \u001b[0;32mis\u001b[0m \u001b[0;32mnot\u001b[0m \u001b[0;32mNone\u001b[0m\u001b[0;34m:\u001b[0m\u001b[0;34m\u001b[0m\u001b[0;34m\u001b[0m\u001b[0m\n\u001b[1;32m    489\u001b[0m       \u001b[0;31m# Release the lock early so that multiple threads can perform the call\u001b[0m\u001b[0;34m\u001b[0m\u001b[0;34m\u001b[0m\u001b[0;34m\u001b[0m\u001b[0m\n",
      "\u001b[0;32m/anaconda3/lib/python3.6/site-packages/tensorflow_core/python/eager/function.py\u001b[0m in \u001b[0;36m__call__\u001b[0;34m(self, *args, **kwargs)\u001b[0m\n\u001b[1;32m   1821\u001b[0m     \u001b[0;34m\"\"\"Calls a graph function specialized to the inputs.\"\"\"\u001b[0m\u001b[0;34m\u001b[0m\u001b[0;34m\u001b[0m\u001b[0m\n\u001b[1;32m   1822\u001b[0m     \u001b[0mgraph_function\u001b[0m\u001b[0;34m,\u001b[0m \u001b[0margs\u001b[0m\u001b[0;34m,\u001b[0m \u001b[0mkwargs\u001b[0m \u001b[0;34m=\u001b[0m \u001b[0mself\u001b[0m\u001b[0;34m.\u001b[0m\u001b[0m_maybe_define_function\u001b[0m\u001b[0;34m(\u001b[0m\u001b[0margs\u001b[0m\u001b[0;34m,\u001b[0m \u001b[0mkwargs\u001b[0m\u001b[0;34m)\u001b[0m\u001b[0;34m\u001b[0m\u001b[0;34m\u001b[0m\u001b[0m\n\u001b[0;32m-> 1823\u001b[0;31m     \u001b[0;32mreturn\u001b[0m \u001b[0mgraph_function\u001b[0m\u001b[0;34m.\u001b[0m\u001b[0m_filtered_call\u001b[0m\u001b[0;34m(\u001b[0m\u001b[0margs\u001b[0m\u001b[0;34m,\u001b[0m \u001b[0mkwargs\u001b[0m\u001b[0;34m)\u001b[0m  \u001b[0;31m# pylint: disable=protected-access\u001b[0m\u001b[0;34m\u001b[0m\u001b[0;34m\u001b[0m\u001b[0m\n\u001b[0m\u001b[1;32m   1824\u001b[0m \u001b[0;34m\u001b[0m\u001b[0m\n\u001b[1;32m   1825\u001b[0m   \u001b[0;34m@\u001b[0m\u001b[0mproperty\u001b[0m\u001b[0;34m\u001b[0m\u001b[0;34m\u001b[0m\u001b[0m\n",
      "\u001b[0;32m/anaconda3/lib/python3.6/site-packages/tensorflow_core/python/eager/function.py\u001b[0m in \u001b[0;36m_filtered_call\u001b[0;34m(self, args, kwargs)\u001b[0m\n\u001b[1;32m   1139\u001b[0m          if isinstance(t, (ops.Tensor,\n\u001b[1;32m   1140\u001b[0m                            resource_variable_ops.BaseResourceVariable))),\n\u001b[0;32m-> 1141\u001b[0;31m         self.captured_inputs)\n\u001b[0m\u001b[1;32m   1142\u001b[0m \u001b[0;34m\u001b[0m\u001b[0m\n\u001b[1;32m   1143\u001b[0m   \u001b[0;32mdef\u001b[0m \u001b[0m_call_flat\u001b[0m\u001b[0;34m(\u001b[0m\u001b[0mself\u001b[0m\u001b[0;34m,\u001b[0m \u001b[0margs\u001b[0m\u001b[0;34m,\u001b[0m \u001b[0mcaptured_inputs\u001b[0m\u001b[0;34m,\u001b[0m \u001b[0mcancellation_manager\u001b[0m\u001b[0;34m=\u001b[0m\u001b[0;32mNone\u001b[0m\u001b[0;34m)\u001b[0m\u001b[0;34m:\u001b[0m\u001b[0;34m\u001b[0m\u001b[0;34m\u001b[0m\u001b[0m\n",
      "\u001b[0;32m/anaconda3/lib/python3.6/site-packages/tensorflow_core/python/eager/function.py\u001b[0m in \u001b[0;36m_call_flat\u001b[0;34m(self, args, captured_inputs, cancellation_manager)\u001b[0m\n\u001b[1;32m   1222\u001b[0m     \u001b[0;32mif\u001b[0m \u001b[0mexecuting_eagerly\u001b[0m\u001b[0;34m:\u001b[0m\u001b[0;34m\u001b[0m\u001b[0;34m\u001b[0m\u001b[0m\n\u001b[1;32m   1223\u001b[0m       flat_outputs = forward_function.call(\n\u001b[0;32m-> 1224\u001b[0;31m           ctx, args, cancellation_manager=cancellation_manager)\n\u001b[0m\u001b[1;32m   1225\u001b[0m     \u001b[0;32melse\u001b[0m\u001b[0;34m:\u001b[0m\u001b[0;34m\u001b[0m\u001b[0;34m\u001b[0m\u001b[0m\n\u001b[1;32m   1226\u001b[0m       \u001b[0mgradient_name\u001b[0m \u001b[0;34m=\u001b[0m \u001b[0mself\u001b[0m\u001b[0;34m.\u001b[0m\u001b[0m_delayed_rewrite_functions\u001b[0m\u001b[0;34m.\u001b[0m\u001b[0mregister\u001b[0m\u001b[0;34m(\u001b[0m\u001b[0;34m)\u001b[0m\u001b[0;34m\u001b[0m\u001b[0;34m\u001b[0m\u001b[0m\n",
      "\u001b[0;32m/anaconda3/lib/python3.6/site-packages/tensorflow_core/python/eager/function.py\u001b[0m in \u001b[0;36mcall\u001b[0;34m(self, ctx, args, cancellation_manager)\u001b[0m\n\u001b[1;32m    509\u001b[0m               \u001b[0minputs\u001b[0m\u001b[0;34m=\u001b[0m\u001b[0margs\u001b[0m\u001b[0;34m,\u001b[0m\u001b[0;34m\u001b[0m\u001b[0;34m\u001b[0m\u001b[0m\n\u001b[1;32m    510\u001b[0m               \u001b[0mattrs\u001b[0m\u001b[0;34m=\u001b[0m\u001b[0;34m(\u001b[0m\u001b[0;34m\"executor_type\"\u001b[0m\u001b[0;34m,\u001b[0m \u001b[0mexecutor_type\u001b[0m\u001b[0;34m,\u001b[0m \u001b[0;34m\"config_proto\"\u001b[0m\u001b[0;34m,\u001b[0m \u001b[0mconfig\u001b[0m\u001b[0;34m)\u001b[0m\u001b[0;34m,\u001b[0m\u001b[0;34m\u001b[0m\u001b[0;34m\u001b[0m\u001b[0m\n\u001b[0;32m--> 511\u001b[0;31m               ctx=ctx)\n\u001b[0m\u001b[1;32m    512\u001b[0m         \u001b[0;32melse\u001b[0m\u001b[0;34m:\u001b[0m\u001b[0;34m\u001b[0m\u001b[0;34m\u001b[0m\u001b[0m\n\u001b[1;32m    513\u001b[0m           outputs = execute.execute_with_cancellation(\n",
      "\u001b[0;32m/anaconda3/lib/python3.6/site-packages/tensorflow_core/python/eager/execute.py\u001b[0m in \u001b[0;36mquick_execute\u001b[0;34m(op_name, num_outputs, inputs, attrs, ctx, name)\u001b[0m\n\u001b[1;32m     59\u001b[0m     tensors = pywrap_tensorflow.TFE_Py_Execute(ctx._handle, device_name,\n\u001b[1;32m     60\u001b[0m                                                \u001b[0mop_name\u001b[0m\u001b[0;34m,\u001b[0m \u001b[0minputs\u001b[0m\u001b[0;34m,\u001b[0m \u001b[0mattrs\u001b[0m\u001b[0;34m,\u001b[0m\u001b[0;34m\u001b[0m\u001b[0;34m\u001b[0m\u001b[0m\n\u001b[0;32m---> 61\u001b[0;31m                                                num_outputs)\n\u001b[0m\u001b[1;32m     62\u001b[0m   \u001b[0;32mexcept\u001b[0m \u001b[0mcore\u001b[0m\u001b[0;34m.\u001b[0m\u001b[0m_NotOkStatusException\u001b[0m \u001b[0;32mas\u001b[0m \u001b[0me\u001b[0m\u001b[0;34m:\u001b[0m\u001b[0;34m\u001b[0m\u001b[0;34m\u001b[0m\u001b[0m\n\u001b[1;32m     63\u001b[0m     \u001b[0;32mif\u001b[0m \u001b[0mname\u001b[0m \u001b[0;32mis\u001b[0m \u001b[0;32mnot\u001b[0m \u001b[0;32mNone\u001b[0m\u001b[0;34m:\u001b[0m\u001b[0;34m\u001b[0m\u001b[0;34m\u001b[0m\u001b[0m\n",
      "\u001b[0;31mKeyboardInterrupt\u001b[0m: "
     ]
    }
   ],
   "source": [
    "tf.keras.backend.clear_session()\n",
    "tf.random.set_seed(51)\n",
    "np.random.seed(51)\n",
    "train_set = windowed_dataset(x_train, window_size=30, batch_size=30, shuffle_buffer=shuffle_buffer_size)\n",
    "model = tf.keras.models.Sequential([\n",
    "  tf.keras.layers.Conv1D(filters=10, kernel_size=5,\n",
    "                      strides=1, padding=\"causal\",\n",
    "                      activation=\"relu\",\n",
    "                      input_shape=[None, 1]),\n",
    "  tf.keras.layers.LSTM(30, return_sequences=True),\n",
    "  tf.keras.layers.LSTM(30, return_sequences=True),\n",
    "  tf.keras.layers.LSTM(30, return_sequences=True),\n",
    "  tf.keras.layers.LSTM(30, return_sequences=True),\n",
    "  tf.keras.layers.Dense(15, activation=\"relu\"),\n",
    "  tf.keras.layers.Dense(15, activation=\"relu\"),\n",
    "  tf.keras.layers.Dense(15, activation=\"relu\"),\n",
    "  tf.keras.layers.Dense(1),\n",
    "#   tf.keras.layers.Lambda(lambda x: x * 400)\n",
    "])\n",
    "\n",
    "\n",
    "optimizer = tf.keras.optimizers.SGD(lr=1e-5, momentum=0.2)\n",
    "model.compile(loss=tf.keras.losses.Huber(),\n",
    "              optimizer=optimizer,\n",
    "              metrics=[\"mae\"])\n",
    "history = model.fit(train_set,epochs=200)"
   ]
  },
  {
   "cell_type": "markdown",
   "metadata": {},
   "source": [
    "## Forecast"
   ]
  },
  {
   "cell_type": "code",
   "execution_count": 39,
   "metadata": {},
   "outputs": [],
   "source": [
    "rnn_forecast = model_forecast(model, series[..., np.newaxis], window_size)\n",
    "rnn_forecast = rnn_forecast[split_time - window_size:-1, -1, 0]"
   ]
  },
  {
   "cell_type": "code",
   "execution_count": 35,
   "metadata": {},
   "outputs": [
    {
     "data": {
      "image/png": "[encoded data removed]",
      "text/plain": [
       "<Figure size 720x432 with 1 Axes>"
      ]
     },
     "metadata": {
      "needs_background": "light"
     },
     "output_type": "display_data"
    },
    {
     "data": {
      "image/png": "[encoded data removed]",
      "text/plain": [
       "<Figure size 432x288 with 1 Axes>"
      ]
     },
     "metadata": {
      "needs_background": "light"
     },
     "output_type": "display_data"
    }
   ],
   "source": [
    "plt.figure(figsize=(10, 6))\n",
    "plot_series(time_valid, x_valid)\n",
    "plot_series(time_valid, rnn_forecast)"
   ]
  },
  {
   "cell_type": "code",
   "execution_count": 22,
   "metadata": {},
   "outputs": [
    {
     "data": {
      "text/plain": [
       "2991.511"
      ]
     },
     "execution_count": 22,
     "metadata": {},
     "output_type": "execute_result"
    }
   ],
   "source": [
    "tf.keras.metrics.mean_absolute_error(x_valid, rnn_forecast).numpy()"
   ]
  },
  {
   "cell_type": "code",
   "execution_count": 23,
   "metadata": {},
   "outputs": [
    {
     "name": "stdout",
     "output_type": "stream",
     "text": [
      "[-5.3839865 41.679356  20.199596   5.193898  17.201918  36.827785\n",
      " 44.704105 ]\n"
     ]
    }
   ],
   "source": [
    "print(rnn_forecast)"
   ]
  },
  {
   "cell_type": "code",
   "execution_count": null,
   "metadata": {},
   "outputs": [],
   "source": []
  }
 ],
 "metadata": {
  "kernelspec": {
   "display_name": "Python 3.6.8 64-bit ('base': conda)",
   "language": "python",
   "name": "python36864bitbasecondae9decb976b0c4fb18506bfe8932ed1db"
  },
  "language_info": {
   "codemirror_mode": {
    "name": "ipython",
    "version": 3
   },
   "file_extension": ".py",
   "mimetype": "text/x-python",
   "name": "python",
   "nbconvert_exporter": "python",
   "pygments_lexer": "ipython3",
   "version": "3.6.8"
  }
 },
 "nbformat": 4,
 "nbformat_minor": 4
}
